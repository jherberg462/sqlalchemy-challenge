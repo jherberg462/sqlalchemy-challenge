{
 "cells": [
  {
   "cell_type": "code",
   "execution_count": 1,
   "metadata": {},
   "outputs": [],
   "source": [
    "#dependencies\n",
    "import pandas as pd\n",
    "import numpy as np\n",
    "import datetime as dt\n",
    "from sqlalchemy import create_engine, Column, Integer, String, Float, func, desc\n",
    "from sqlalchemy.orm import Session\n",
    "from sqlalchemy.ext.declarative import declarative_base\n",
    "from sqlalchemy.ext.automap import automap_base\n",
    "from flask import Flask, jsonify"
   ]
  },
  {
   "cell_type": "code",
   "execution_count": 2,
   "metadata": {},
   "outputs": [],
   "source": [
    "#for debugging purposes"
   ]
  },
  {
   "cell_type": "code",
   "execution_count": 3,
   "metadata": {},
   "outputs": [],
   "source": [
    "#path of sqlite file goes here in relation to current file\n",
    "db_path = 'data/hawaii.sqlite'\n",
    "\n",
    "#connect to sqllite db\n",
    "engine = create_engine(f\"sqlite:///{db_path}\")\n",
    "\n",
    "\n",
    "\n",
    "#reflect an existing database into a new model\n",
    "Base = automap_base()\n",
    "# reflect the tables\n",
    "Base.prepare(engine, reflect=True)\n",
    "\n",
    "# Save reference to the table\n",
    "Station = Base.classes.station\n",
    "Measurement = Base.classes.measurement\n",
    "\n",
    "#set variable 'app' to run Flask\n",
    "app = Flask(__name__)\n",
    "\n",
    "\n"
   ]
  },
  {
   "cell_type": "code",
   "execution_count": 4,
   "metadata": {},
   "outputs": [],
   "source": [
    "@app.route(\"/\")\n",
    "def welcome():\n",
    "    welcome = '''\n",
    "    /api/v1.0/precipitation<br>\n",
    "    /api/v1.0/stations<br>\n",
    "    /api/v1.0/tobs<br>\n",
    "    /api/v1.0/<start><br>\n",
    "    /api/v1.0/<start>/<end> <br>\n",
    "    \n",
    "    '''\n",
    "\n",
    "    return (welcome)\n"
   ]
  },
  {
   "cell_type": "code",
   "execution_count": null,
   "metadata": {},
   "outputs": [],
   "source": [
    "@app.route('/api/v1.0/precipitation')\n",
    "def precipitation():\n",
    "    session = Session(engine) #connect to SQL file\n",
    "    result = session.query(Measurement.date, Measurement.prcp).all() #run query\n",
    "    session.close() #close connection\n",
    "    results = [] #create empty list\n",
    "    for date, precipitation in result:\n",
    "        if precipitation == None: #clean data so that None is converted into 0\n",
    "            precipitations = 0.0\n",
    "        else:\n",
    "            precipitations = precipitation\n",
    "        result_dictionary = {} #create empty dictionary\n",
    "        result_dictionary[date] = precipitations #make date the key and the prcp value the value\n",
    "        results.append(result_dictionary) #append dictionary to the results list\n",
    "    return jsonify(results)\n"
   ]
  },
  {
   "cell_type": "code",
   "execution_count": null,
   "metadata": {},
   "outputs": [],
   "source": [
    "@app.route('/api/v1.0/stations')\n",
    "def stations():\n",
    "    session = Session(engine)\n",
    "    result = session.query(*[Measurement.station]).group_by(Measurement.station).\\\n",
    "    order_by(desc(func.count(Measurement.station))).all()\n",
    "    session.close()\n",
    "    result = list(np.ravel(result))\n",
    "    return jsonify(result)\n",
    "    "
   ]
  },
  {
   "cell_type": "code",
   "execution_count": null,
   "metadata": {},
   "outputs": [],
   "source": [
    "@app.route('/api/v1.0/tobs')\n",
    "def temp():\n",
    "    session = Session(engine)\n",
    "    date_range = session.query(*[func.max(Measurement.date)]).all() #find latest date in dataset\n",
    "    df_date_range = pd.DataFrame(date_range, columns=['date']) #put result into a df\n",
    "    max_date = df_date_range.max()['date']\n",
    "    dt_max_date = dt.datetime.strptime(max_date, '%Y-%m-%d') #get latest date in dataset into datetime object\n",
    "    dt_year_before = dt_max_date + dt.timedelta(days=-365)\n",
    "    year_before = dt.date.strftime(dt_year_before, '%Y-%m-%d')\n",
    "    sel = [Measurement.tobs, Measurement.date] #list of columns to be selected\n",
    "    result = session.query(*sel).filter(func.strftime('%Y-%m-%d', Measurement.date) >= year_before).\\\n",
    "    order_by(Measurement.date).all()\n",
    "    session.close()\n",
    "    results = []\n",
    "    for temp, date in result:\n",
    "        result_dictionary = {}\n",
    "        result_dictionary[date] = temp\n",
    "        results.append(result_dictionary)\n",
    "    return jsonify(results)\n",
    "    "
   ]
  },
  {
   "cell_type": "code",
   "execution_count": null,
   "metadata": {},
   "outputs": [],
   "source": [
    "@app.route('/api/v1.0/<start>')\n",
    "def start(start):\n",
    "    start = str(start)\n",
    "    try:\n",
    "        dt.datetime.strptime(start, '%Y-%m-%d')\n",
    "    except ValueError:\n",
    "        er = 'dates must be in yyyy-mm-dd format'\n",
    "        return er\n",
    "    session = Session(engine)\n",
    "    temp_stats_sel = [func.min(Measurement.tobs), func.max(Measurement.tobs), \n",
    "                      func.avg(Measurement.tobs), Measurement.date]\n",
    "    result = session.query(*temp_stats_sel).filter(Measurement.date >= start).\\\n",
    "        group_by(Measurement.date).all()\n",
    "    session.close()\n",
    "    results = []\n",
    "    for minimum, maximum, average, date in result:\n",
    "        result_dictionary = {}\n",
    "        results_dictionary = {}\n",
    "        results_dictionary['min_temp'] = minimum\n",
    "        results_dictionary['max_temp'] = maximum\n",
    "        results_dictionary['average_temp'] = average\n",
    "        result_dictionary[date] = results_dictionary\n",
    "        results.append(result_dictionary)\n",
    "    return jsonify(results)\n",
    "    "
   ]
  },
  {
   "cell_type": "code",
   "execution_count": null,
   "metadata": {},
   "outputs": [],
   "source": [
    "@app.route('/api/v1.0/<start>/<end>')\n",
    "def range(start, end):\n",
    "    start = str(start)\n",
    "    end = str(end)\n",
    "    try:\n",
    "        dt.datetime.strptime(start, '%Y-%m-%d')\n",
    "        dt.datetime.strptime(end, '%Y-%m-%d')\n",
    "    except ValueError:\n",
    "        er = 'dates must be in yyyy-mm-dd format'\n",
    "        return er\n",
    "    session = Session(engine)\n",
    "    temp_stats_sel = [func.min(Measurement.tobs), func.max(Measurement.tobs), \n",
    "                      func.avg(Measurement.tobs), Measurement.date]\n",
    "    result = session.query(*temp_stats_sel).filter(Measurement.date >= start).\\\n",
    "        filter(Measurement.date <= end).group_by(Measurement.date).all()\n",
    "    session.close()\n",
    "    results = []\n",
    "    for minimum, maximum, average, date in result:\n",
    "        result_dictionary = {}\n",
    "        results_dictionary = {}\n",
    "        results_dictionary['min_temp'] = minimum\n",
    "        results_dictionary['max_temp'] = maximum\n",
    "        results_dictionary['average_temp'] = average\n",
    "        result_dictionary[date] = results_dictionary\n",
    "        results.append(result_dictionary)\n",
    "    return jsonify(results)"
   ]
  },
  {
   "cell_type": "code",
   "execution_count": null,
   "metadata": {},
   "outputs": [],
   "source": [
    "#set debug to True for troubleshooting, keep troubleshooting code out of production\n",
    "if __name__ == '__main__':\n",
    "    app.run(debug=False)\n"
   ]
  }
 ],
 "metadata": {
  "kernelspec": {
   "display_name": "Python 3",
   "language": "python",
   "name": "python3"
  },
  "language_info": {
   "codemirror_mode": {
    "name": "ipython",
    "version": 3
   },
   "file_extension": ".py",
   "mimetype": "text/x-python",
   "name": "python",
   "nbconvert_exporter": "python",
   "pygments_lexer": "ipython3",
   "version": "3.7.3"
  }
 },
 "nbformat": 4,
 "nbformat_minor": 2
}
